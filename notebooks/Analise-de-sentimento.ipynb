{
 "cells": [
  {
   "cell_type": "code",
   "execution_count": 7,
   "id": "59cae8c4",
   "metadata": {},
   "outputs": [],
   "source": [
    "from textblob import TextBlob\n",
    "from googletrans import Translator"
   ]
  },
  {
   "cell_type": "code",
   "execution_count": 9,
   "id": "e682347b",
   "metadata": {},
   "outputs": [
    {
     "name": "stdout",
     "output_type": "stream",
     "text": [
      "Frase: you are the best\n",
      "Polaridade: 1.0\n"
     ]
    }
   ],
   "source": [
    "# Exemplo de frase em português\n",
    "frase = \"você é o melhor\"\n",
    "\n",
    "# Criar uma instância do tradutor\n",
    "tradutor = Translator()\n",
    "\n",
    "try:\n",
    "    # Traduzir para o inglês\n",
    "    traducao = tradutor.translate(frase, src='pt', dest='en').text\n",
    "    \n",
    "    #Criando um objeto TextBlob com o texto traduzido\n",
    "    tb_en= TextBlob(traducao)\n",
    "    \n",
    "    # Analisando a polaridade de cada sentença \"frase\"\n",
    "    #foi criado o for porque pode ter mais de uma sentença a ser análizada\n",
    "    \n",
    "    for sentence in tb_en.sentences:\n",
    "        print(f\"Frase: {sentence}\")\n",
    "        print(f\"Polaridade: {sentence.sentiment.polarity}\")\n",
    "        \n",
    "        #O For acima vai ser executado sempre, com exessão de quando não foi possivel traduzir a frase\n",
    "        #O Texblob só consegue análisar sentenças em Inglês, por ser a língua mais falada.\n",
    "        #a polaridade vai de - 1 a 1 ( sendo - 1 negativa, 0 neutra e 1 positiva) analisar a proximidade.\n",
    "except Exception as e:\n",
    "    print(f\"Erro na tradução: {e}\")"
   ]
  },
  {
   "cell_type": "code",
   "execution_count": 6,
   "id": "d0cae14e",
   "metadata": {},
   "outputs": [
    {
     "name": "stdout",
     "output_type": "stream",
     "text": [
      "4.0.0-rc.1\n"
     ]
    }
   ],
   "source": [
    "import googletrans\n",
    "print(googletrans.__version__)"
   ]
  },
  {
   "cell_type": "code",
   "execution_count": null,
   "id": "3dfbaa4a",
   "metadata": {},
   "outputs": [],
   "source": []
  }
 ],
 "metadata": {
  "kernelspec": {
   "display_name": "Python 3 (ipykernel)",
   "language": "python",
   "name": "python3"
  },
  "language_info": {
   "codemirror_mode": {
    "name": "ipython",
    "version": 3
   },
   "file_extension": ".py",
   "mimetype": "text/x-python",
   "name": "python",
   "nbconvert_exporter": "python",
   "pygments_lexer": "ipython3",
   "version": "3.9.13"
  }
 },
 "nbformat": 4,
 "nbformat_minor": 5
}
