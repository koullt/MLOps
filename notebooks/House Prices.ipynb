{
 "cells": [
  {
   "cell_type": "code",
   "execution_count": 37,
   "id": "c5b3804b",
   "metadata": {},
   "outputs": [
    {
     "name": "stdout",
     "output_type": "stream",
     "text": [
      "[249536.99229404]\n"
     ]
    },
    {
     "name": "stderr",
     "output_type": "stream",
     "text": [
      "C:\\Users\\CarlosMaziero\\anaconda3\\lib\\site-packages\\sklearn\\base.py:450: UserWarning: X does not have valid feature names, but LinearRegression was fitted with feature names\n",
      "  warnings.warn(\n"
     ]
    }
   ],
   "source": [
    "import pandas as pd\n",
    "from sklearn.model_selection import train_test_split\n",
    "from sklearn.linear_model import LinearRegression\n",
    "import numpy as np\n",
    "\n",
    "# Carregar o arquivo CSV\n",
    "arquivo_excel = 'C:\\\\PESSOAL\\\\Documentos\\\\PYTHON\\\\MLOPS - Flask API\\\\casas.csv'\n",
    "df = pd.read_csv(arquivo_excel)\n",
    "\n",
    "\n",
    "X = df.drop('preco', axis=1)  # Características (neste caso, apenas 'tamanho')\n",
    "y = df['preco']      # Alvo\n",
    "\n",
    "# Dividir os dados em conjuntos de treinamento e teste\n",
    "X_train, X_test, y_train, y_test = train_test_split(X, y, test_size=0.3, random_state=42)\n",
    "\n",
    "# Criar e treinar o modelo\n",
    "modelo = LinearRegression()\n",
    "modelo.fit(X_train, y_train)\n",
    "\n",
    "# Dados de entrada para previsão (mantendo o mesmo número de características)\n",
    "novo_dado = np.array([[190,2001,2]])\n",
    "\n",
    "# Prever com o novo dado\n",
    "previsao = modelo.predict(novo_dado)\n",
    "print(previsao)"
   ]
  },
  {
   "cell_type": "code",
   "execution_count": 38,
   "id": "08e4b2f8",
   "metadata": {},
   "outputs": [],
   "source": [
    "import pickle"
   ]
  },
  {
   "cell_type": "code",
   "execution_count": 39,
   "id": "873571e2",
   "metadata": {},
   "outputs": [],
   "source": [
    "pickle.dump(modelo, open('modelo.sav','wb'))"
   ]
  },
  {
   "cell_type": "code",
   "execution_count": 2,
   "id": "5a1bab59",
   "metadata": {},
   "outputs": [
    {
     "data": {
      "text/plain": [
       "'1.21.5'"
      ]
     },
     "execution_count": 2,
     "metadata": {},
     "output_type": "execute_result"
    }
   ],
   "source": [
    "import numpy\n",
    "numpy.__version__"
   ]
  },
  {
   "cell_type": "code",
   "execution_count": null,
   "id": "22a30680",
   "metadata": {},
   "outputs": [],
   "source": []
  }
 ],
 "metadata": {
  "kernelspec": {
   "display_name": "Python 3 (ipykernel)",
   "language": "python",
   "name": "python3"
  },
  "language_info": {
   "codemirror_mode": {
    "name": "ipython",
    "version": 3
   },
   "file_extension": ".py",
   "mimetype": "text/x-python",
   "name": "python",
   "nbconvert_exporter": "python",
   "pygments_lexer": "ipython3",
   "version": "3.9.13"
  }
 },
 "nbformat": 4,
 "nbformat_minor": 5
}
